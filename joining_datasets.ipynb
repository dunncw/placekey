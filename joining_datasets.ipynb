{
 "cells": [
  {
   "cell_type": "code",
   "execution_count": 16,
   "metadata": {},
   "outputs": [],
   "source": [
    "import placekey as pk\n",
    "from placekey.api import PlacekeyAPI\n",
    "import pandas as pd\n",
    "# from ast import literal_eval\n",
    "import json"
   ]
  },
  {
   "cell_type": "code",
   "execution_count": 19,
   "metadata": {},
   "outputs": [
    {
     "name": "stderr",
     "output_type": "stream",
     "text": [
      "C:\\Users\\Cayden.Dunn\\AppData\\Local\\Temp\\ipykernel_59736\\269833709.py:1: DtypeWarning: Columns (10,12,17,18,19,39) have mixed types. Specify dtype option on import or set low_memory=False.\n",
      "  Blight_Violations_df = pd.read_csv('data/Blight_Violations.csv')\n",
      "C:\\Users\\Cayden.Dunn\\AppData\\Local\\Temp\\ipykernel_59736\\269833709.py:2: DtypeWarning: Columns (8,14,20) have mixed types. Specify dtype option on import or set low_memory=False.\n",
      "  Property_Sales_df = pd.read_csv('data/Property_Sales.csv')\n"
     ]
    }
   ],
   "source": [
    "Blight_Violations_df = pd.read_csv('data/Blight_Violations.csv')\n",
    "Property_Sales_df = pd.read_csv('data/Property_Sales.csv')\n",
    "placekeys_Blight_Violations = pd.read_csv('data/out/placekeys_Blight_Violations.csv')\n",
    "placekeys_Property_Sales = pd.read_csv('data/out/placekeys_Property_Sales.csv')"
   ]
  },
  {
   "cell_type": "code",
   "execution_count": null,
   "metadata": {},
   "outputs": [],
   "source": [
    "blight_violations_value_counts = placekeys_Blight_Violations['placekey'].value_counts()\n",
    "property_sales_value_counts = placekeys_Property_Sales['placekey'].value_counts()"
   ]
  },
  {
   "cell_type": "code",
   "execution_count": 20,
   "metadata": {},
   "outputs": [],
   "source": [
    "placekeys_Blight_Violations.dropna(subset=['placekey'], inplace=True)\n",
    "placekeys_Property_Sales.dropna(subset=['placekey'], inplace=True)\n",
    "merged_df = pd.merge(placekeys_Blight_Violations, placekeys_Property_Sales, on='placekey')"
   ]
  },
  {
   "cell_type": "code",
   "execution_count": 23,
   "metadata": {},
   "outputs": [],
   "source": [
    "placekeys_Blight_Violations['ticket_id'] = placekeys_Blight_Violations['query_id'].astype(str)\n",
    "Blight_Violations_df['ticket_id'] = Blight_Violations_df['ticket_id'].astype(str)\n",
    "Blight_Violations_W_placekeys = pd.merge(Blight_Violations_df, placekeys_Blight_Violations, on='ticket_id')"
   ]
  }
 ],
 "metadata": {
  "kernelspec": {
   "display_name": ".venv",
   "language": "python",
   "name": "python3"
  },
  "language_info": {
   "codemirror_mode": {
    "name": "ipython",
    "version": 3
   },
   "file_extension": ".py",
   "mimetype": "text/x-python",
   "name": "python",
   "nbconvert_exporter": "python",
   "pygments_lexer": "ipython3",
   "version": "3.11.8"
  }
 },
 "nbformat": 4,
 "nbformat_minor": 2
}
