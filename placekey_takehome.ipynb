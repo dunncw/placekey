{
 "cells": [
  {
   "cell_type": "code",
   "execution_count": 1,
   "metadata": {},
   "outputs": [],
   "source": [
    "import placekey as pk\n",
    "from placekey.api import PlacekeyAPI\n",
    "import pandas as pd\n",
    "from ast import literal_eval\n",
    "import json"
   ]
  },
  {
   "cell_type": "code",
   "execution_count": 2,
   "metadata": {},
   "outputs": [
    {
     "data": {
      "text/plain": [
       "{'query_id': '0', 'placekey': '@5vg-82n-kzz'}"
      ]
     },
     "execution_count": 2,
     "metadata": {},
     "output_type": "execute_result"
    }
   ],
   "source": [
    "placekey_api_key = \"Q8J3zrMOuMwyQokDr8x3YX47I7CfXMOQ\" # change to env var \n",
    "pk_api = PlacekeyAPI(placekey_api_key)\n",
    "\n",
    "# test placekey api\n",
    "pk_api.lookup_placekey(latitude=37.7371, longitude=-122.44283)"
   ]
  },
  {
   "cell_type": "code",
   "execution_count": 3,
   "metadata": {},
   "outputs": [],
   "source": [
    "def get_df_for_api(df, column_map):\n",
    "  df_for_api = df.rename(columns=column_map)\n",
    "  cols = list(column_map.values())\n",
    "  df_for_api = df_for_api[cols]\n",
    "  df_for_api['iso_country_code'] = 'US'\n",
    "  df_for_api['query_id'] = df_for_api['query_id'].astype(str)\n",
    "  return(df_for_api)"
   ]
  },
  {
   "cell_type": "code",
   "execution_count": 4,
   "metadata": {},
   "outputs": [
    {
     "name": "stderr",
     "output_type": "stream",
     "text": [
      "C:\\Users\\cayde\\AppData\\Local\\Temp\\ipykernel_21308\\1233766091.py:2: DtypeWarning: Columns (10,12,17,18,19,39) have mixed types. Specify dtype option on import or set low_memory=False.\n",
      "  Blight_Violations_df = pd.read_csv('data/Blight_Violations.csv')\n",
      "C:\\Users\\cayde\\AppData\\Local\\Temp\\ipykernel_21308\\1233766091.py:3: DtypeWarning: Columns (8,14,20) have mixed types. Specify dtype option on import or set low_memory=False.\n",
      "  Property_Sales_df = pd.read_csv('data/Property_Sales.csv')\n"
     ]
    }
   ],
   "source": [
    "# read in data\n",
    "Blight_Violations_df = pd.read_csv('data/Blight_Violations.csv')\n",
    "Property_Sales_df = pd.read_csv('data/Property_Sales.csv')"
   ]
  },
  {
   "cell_type": "code",
   "execution_count": 7,
   "metadata": {},
   "outputs": [
    {
     "data": {
      "text/html": [
       "<div>\n",
       "<style scoped>\n",
       "    .dataframe tbody tr th:only-of-type {\n",
       "        vertical-align: middle;\n",
       "    }\n",
       "\n",
       "    .dataframe tbody tr th {\n",
       "        vertical-align: top;\n",
       "    }\n",
       "\n",
       "    .dataframe thead th {\n",
       "        text-align: right;\n",
       "    }\n",
       "</style>\n",
       "<table border=\"1\" class=\"dataframe\">\n",
       "  <thead>\n",
       "    <tr style=\"text-align: right;\">\n",
       "      <th></th>\n",
       "      <th>query_id</th>\n",
       "      <th>street_address</th>\n",
       "      <th>region</th>\n",
       "      <th>postal_code</th>\n",
       "      <th>latitude</th>\n",
       "      <th>longitude</th>\n",
       "      <th>iso_country_code</th>\n",
       "      <th>city</th>\n",
       "    </tr>\n",
       "  </thead>\n",
       "  <tbody>\n",
       "    <tr>\n",
       "      <th>0</th>\n",
       "      <td>18645</td>\n",
       "      <td>599 King</td>\n",
       "      <td>MI</td>\n",
       "      <td>48202</td>\n",
       "      <td>-83.072568</td>\n",
       "      <td>42.383357</td>\n",
       "      <td>US</td>\n",
       "      <td>Det</td>\n",
       "    </tr>\n",
       "    <tr>\n",
       "      <th>1</th>\n",
       "      <td>18646</td>\n",
       "      <td>18604 Appoline</td>\n",
       "      <td>MI</td>\n",
       "      <td>48235</td>\n",
       "      <td>-83.072474</td>\n",
       "      <td>42.383400</td>\n",
       "      <td>US</td>\n",
       "      <td>Det</td>\n",
       "    </tr>\n",
       "    <tr>\n",
       "      <th>2</th>\n",
       "      <td>18648</td>\n",
       "      <td>4066 Columbus</td>\n",
       "      <td>MI</td>\n",
       "      <td>48204</td>\n",
       "      <td>-83.115057</td>\n",
       "      <td>42.359928</td>\n",
       "      <td>US</td>\n",
       "      <td>Det</td>\n",
       "    </tr>\n",
       "    <tr>\n",
       "      <th>3</th>\n",
       "      <td>18649</td>\n",
       "      <td>3005 Pasada</td>\n",
       "      <td>MI</td>\n",
       "      <td>48238</td>\n",
       "      <td>-83.128037</td>\n",
       "      <td>42.393455</td>\n",
       "      <td>US</td>\n",
       "      <td>Det</td>\n",
       "    </tr>\n",
       "    <tr>\n",
       "      <th>4</th>\n",
       "      <td>18650</td>\n",
       "      <td>20211 Westmoreland</td>\n",
       "      <td>MI</td>\n",
       "      <td>48219</td>\n",
       "      <td>-83.134466</td>\n",
       "      <td>42.389668</td>\n",
       "      <td>US</td>\n",
       "      <td>Det</td>\n",
       "    </tr>\n",
       "  </tbody>\n",
       "</table>\n",
       "</div>"
      ],
      "text/plain": [
       "  query_id      street_address region postal_code   latitude  longitude  \\\n",
       "0    18645            599 King     MI       48202 -83.072568  42.383357   \n",
       "1    18646      18604 Appoline     MI       48235 -83.072474  42.383400   \n",
       "2    18648       4066 Columbus     MI       48204 -83.115057  42.359928   \n",
       "3    18649         3005 Pasada     MI       48238 -83.128037  42.393455   \n",
       "4    18650  20211 Westmoreland     MI       48219 -83.134466  42.389668   \n",
       "\n",
       "  iso_country_code city  \n",
       "0               US  Det  \n",
       "1               US  Det  \n",
       "2               US  Det  \n",
       "3               US  Det  \n",
       "4               US  Det  "
      ]
     },
     "execution_count": 7,
     "metadata": {},
     "output_type": "execute_result"
    }
   ],
   "source": [
    "Blight_Violations_df['zip_code'] = Blight_Violations_df['zip_code'].astype(str)\n",
    "Blight_Violations_column_map = {\"ticket_id\": \"query_id\",\"mailing_address\" : \"street_address\", \"state\": \"region\", \"zip_code\": \"postal_code\", \"X\" : \"latitude\", \"Y\" : \"longitude\", \"country\" : \"iso_country_code\", \"city\" : \"city\"}\n",
    "Blight_Violations_for_api = get_df_for_api(Blight_Violations_df, Blight_Violations_column_map)\n",
    "Blight_Violations_for_api.head()"
   ]
  },
  {
   "cell_type": "code",
   "execution_count": 8,
   "metadata": {},
   "outputs": [
    {
     "name": "stdout",
     "output_type": "stream",
     "text": [
      "number of records:  686824\n",
      "example record:\n"
     ]
    },
    {
     "data": {
      "text/plain": [
       "{'query_id': '18645',\n",
       " 'street_address': '599 King',\n",
       " 'region': 'MI',\n",
       " 'postal_code': '48202',\n",
       " 'latitude': -83.072568447,\n",
       " 'longitude': 42.383356721,\n",
       " 'iso_country_code': 'US',\n",
       " 'city': 'Det'}"
      ]
     },
     "execution_count": 8,
     "metadata": {},
     "output_type": "execute_result"
    }
   ],
   "source": [
    "Blight_Violations_data_jsoned = json.loads(Blight_Violations_for_api.to_json(orient=\"records\"))\n",
    "print(\"number of records: \", len(Blight_Violations_data_jsoned))\n",
    "print(\"example record:\")\n",
    "Blight_Violations_data_jsoned[0]"
   ]
  },
  {
   "cell_type": "code",
   "execution_count": 52,
   "metadata": {},
   "outputs": [
    {
     "name": "stderr",
     "output_type": "stream",
     "text": [
      "2024-03-04 14:13:46,175\tINFO\tProcessed 1000 items\n",
      "2024-03-04 14:13:46,175\tINFO\tProcessed 1000 items\n",
      "2024-03-04 14:13:46,176\tINFO\tDone\n"
     ]
    }
   ],
   "source": [
    "responses_Blight_Violations = pk_api.lookup_placekeys(Blight_Violations_data_jsoned, verbose=True)\n",
    "placekeys_Blight_Violations = pd.read_json(json.dumps(responses_Blight_Violations), dtype={'query_id':str})\n",
    "placekeys_Blight_Violations.to_csv('data/placekeys_Blight_Violations.csv', index=False)"
   ]
  },
  {
   "cell_type": "code",
   "execution_count": 9,
   "metadata": {},
   "outputs": [
    {
     "data": {
      "text/html": [
       "<div>\n",
       "<style scoped>\n",
       "    .dataframe tbody tr th:only-of-type {\n",
       "        vertical-align: middle;\n",
       "    }\n",
       "\n",
       "    .dataframe tbody tr th {\n",
       "        vertical-align: top;\n",
       "    }\n",
       "\n",
       "    .dataframe thead th {\n",
       "        text-align: right;\n",
       "    }\n",
       "</style>\n",
       "<table border=\"1\" class=\"dataframe\">\n",
       "  <thead>\n",
       "    <tr style=\"text-align: right;\">\n",
       "      <th></th>\n",
       "      <th>query_id</th>\n",
       "      <th>street_address</th>\n",
       "      <th>latitude</th>\n",
       "      <th>longitude</th>\n",
       "      <th>iso_country_code</th>\n",
       "    </tr>\n",
       "  </thead>\n",
       "  <tbody>\n",
       "    <tr>\n",
       "      <th>0</th>\n",
       "      <td>3749837</td>\n",
       "      <td>14006 GLASTONBURY</td>\n",
       "      <td>-83.224446</td>\n",
       "      <td>42.388139</td>\n",
       "      <td>US</td>\n",
       "    </tr>\n",
       "    <tr>\n",
       "      <th>1</th>\n",
       "      <td>4210008</td>\n",
       "      <td>19951 ASBURY PARK</td>\n",
       "      <td>-83.210323</td>\n",
       "      <td>42.438587</td>\n",
       "      <td>US</td>\n",
       "    </tr>\n",
       "    <tr>\n",
       "      <th>2</th>\n",
       "      <td>4210338</td>\n",
       "      <td>16881 ASBURY PARK</td>\n",
       "      <td>-83.209319</td>\n",
       "      <td>42.415134</td>\n",
       "      <td>US</td>\n",
       "    </tr>\n",
       "    <tr>\n",
       "      <th>3</th>\n",
       "      <td>3775822</td>\n",
       "      <td>10322 TIREMAN</td>\n",
       "      <td>-83.161543</td>\n",
       "      <td>42.351916</td>\n",
       "      <td>US</td>\n",
       "    </tr>\n",
       "    <tr>\n",
       "      <th>4</th>\n",
       "      <td>3663543</td>\n",
       "      <td>4158 LINCOLN</td>\n",
       "      <td>-83.074014</td>\n",
       "      <td>42.346942</td>\n",
       "      <td>US</td>\n",
       "    </tr>\n",
       "  </tbody>\n",
       "</table>\n",
       "</div>"
      ],
      "text/plain": [
       "  query_id     street_address   latitude  longitude iso_country_code\n",
       "0  3749837  14006 GLASTONBURY -83.224446  42.388139               US\n",
       "1  4210008  19951 ASBURY PARK -83.210323  42.438587               US\n",
       "2  4210338  16881 ASBURY PARK -83.209319  42.415134               US\n",
       "3  3775822      10322 TIREMAN -83.161543  42.351916               US\n",
       "4  3663543       4158 LINCOLN -83.074014  42.346942               US"
      ]
     },
     "execution_count": 9,
     "metadata": {},
     "output_type": "execute_result"
    }
   ],
   "source": [
    "Property_Sales_column_map = {\"sale_id\": \"query_id\", \"address\" : \"street_address\", \"X\" : \"latitude\", \"Y\" : \"longitude\"}\n",
    "Property_Sales_for_api = get_df_for_api(Property_Sales_df, Property_Sales_column_map)\n",
    "Property_Sales_for_api.head()"
   ]
  },
  {
   "cell_type": "code",
   "execution_count": 10,
   "metadata": {},
   "outputs": [
    {
     "name": "stdout",
     "output_type": "stream",
     "text": [
      "number of records:  429730\n",
      "example record:\n"
     ]
    },
    {
     "data": {
      "text/plain": [
       "{'query_id': '3749837',\n",
       " 'street_address': '14006 GLASTONBURY',\n",
       " 'latitude': -83.224445608,\n",
       " 'longitude': 42.388138734,\n",
       " 'iso_country_code': 'US'}"
      ]
     },
     "execution_count": 10,
     "metadata": {},
     "output_type": "execute_result"
    }
   ],
   "source": [
    "Property_Sales_data_jsoned = json.loads(Property_Sales_for_api.to_json(orient=\"records\"))\n",
    "print(\"number of records: \", len(Property_Sales_data_jsoned))\n",
    "print(\"example record:\")\n",
    "Property_Sales_data_jsoned[0]"
   ]
  },
  {
   "cell_type": "code",
   "execution_count": null,
   "metadata": {},
   "outputs": [],
   "source": [
    "responses_Property_Sales = pk_api.lookup_placekeys(Property_Sales_data_jsoned, verbose=True)\n",
    "placekeys_Property_Sales = pd.read_json(json.dumps(responses_Property_Sales), dtype={'query_id':str})\n",
    "placekeys_Property_Sales.to_csv('data/placekeys_Property_Sales.csv', index=False)"
   ]
  }
 ],
 "metadata": {
  "kernelspec": {
   "display_name": ".venv",
   "language": "python",
   "name": "python3"
  },
  "language_info": {
   "codemirror_mode": {
    "name": "ipython",
    "version": 3
   },
   "file_extension": ".py",
   "mimetype": "text/x-python",
   "name": "python",
   "nbconvert_exporter": "python",
   "pygments_lexer": "ipython3",
   "version": "3.8.10"
  }
 },
 "nbformat": 4,
 "nbformat_minor": 2
}
