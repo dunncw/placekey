{
 "cells": [
  {
   "cell_type": "code",
   "execution_count": 2,
   "metadata": {},
   "outputs": [],
   "source": [
    "import placekey as pk\n",
    "from placekey.api import PlacekeyAPI"
   ]
  },
  {
   "cell_type": "code",
   "execution_count": 3,
   "metadata": {},
   "outputs": [
    {
     "data": {
      "text/plain": [
       "{'query_id': '0', 'placekey': '@5vg-82n-kzz'}"
      ]
     },
     "execution_count": 3,
     "metadata": {},
     "output_type": "execute_result"
    }
   ],
   "source": [
    "placekey_api_key = \"Q8J3zrMOuMwyQokDr8x3YX47I7CfXMOQ\"\n",
    "pk_api = PlacekeyAPI(placekey_api_key)\n",
    "pk_api.lookup_placekey(latitude=37.7371, longitude=-122.44283)"
   ]
  },
  {
   "cell_type": "code",
   "execution_count": 4,
   "metadata": {},
   "outputs": [
    {
     "data": {
      "text/plain": [
       "{'query_id': '0', 'placekey': '227@5vg-82n-pgk'}"
      ]
     },
     "execution_count": 4,
     "metadata": {},
     "output_type": "execute_result"
    }
   ],
   "source": [
    "place = {\n",
    "   \"street_address\": \"598 Portola Dr\",\n",
    "   \"city\": \"San Francisco\",\n",
    "   \"region\": \"CA\",\n",
    "   \"postal_code\": \"94131\",\n",
    "   \"iso_country_code\": \"US\"\n",
    "}\n",
    "pk_api.lookup_placekey(**place, strict_address_match=True)"
   ]
  }
 ],
 "metadata": {
  "kernelspec": {
   "display_name": ".venv",
   "language": "python",
   "name": "python3"
  },
  "language_info": {
   "codemirror_mode": {
    "name": "ipython",
    "version": 3
   },
   "file_extension": ".py",
   "mimetype": "text/x-python",
   "name": "python",
   "nbconvert_exporter": "python",
   "pygments_lexer": "ipython3",
   "version": "3.8.10"
  }
 },
 "nbformat": 4,
 "nbformat_minor": 2
}
